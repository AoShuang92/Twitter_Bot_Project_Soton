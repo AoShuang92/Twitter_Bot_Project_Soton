{
  "nbformat": 4,
  "nbformat_minor": 0,
  "metadata": {
    "colab": {
      "provenance": [],
      "authorship_tag": "ABX9TyPrNxjldmsDkqfHbPMf9mAY",
      "include_colab_link": true
    },
    "kernelspec": {
      "name": "python3",
      "display_name": "Python 3"
    },
    "language_info": {
      "name": "python"
    }
  },
  "cells": [
    {
      "cell_type": "markdown",
      "metadata": {
        "id": "view-in-github",
        "colab_type": "text"
      },
      "source": [
        "<a href=\"https://colab.research.google.com/github/AoShuang92/Twitter_Bot_Project_Soton/blob/main/extract_text_html.ipynb\" target=\"_parent\"><img src=\"https://colab.research.google.com/assets/colab-badge.svg\" alt=\"Open In Colab\"/></a>"
      ]
    },
    {
      "cell_type": "code",
      "execution_count": null,
      "metadata": {
        "id": "af0qNNSyUoJ9"
      },
      "outputs": [],
      "source": [
        "!pip install requests beautifulsoup4 PyPDF2"
      ]
    },
    {
      "cell_type": "code",
      "source": [
        "import requests\n",
        "from bs4 import BeautifulSoup\n",
        "from urllib.parse import urljoin\n",
        "import PyPDF2\n",
        "from io import BytesIO\n",
        "\n",
        "# Function to extract text from a webpage\n",
        "def extract_text_from_page(url):\n",
        "    try:\n",
        "        response = requests.get(url)\n",
        "        response.raise_for_status()\n",
        "        soup = BeautifulSoup(response.text, 'html.parser')\n",
        "\n",
        "        # Extract the main text content\n",
        "        text = ' '.join([elem.get_text(strip=True) for elem in soup.find_all(['p', 'h1', 'h2', 'h3', 'h4', 'h5', 'h6'])])\n",
        "        return text\n",
        "    except Exception as e:\n",
        "        print(f\"Error fetching {url}: {e}\")\n",
        "        return \"\"\n",
        "\n",
        "# Function to extract text from a PDF\n",
        "def extract_text_from_pdf(url):\n",
        "    try:\n",
        "        response = requests.get(url)\n",
        "        response.raise_for_status()\n",
        "\n",
        "        # Open the PDF content\n",
        "        pdf_file = BytesIO(response.content)\n",
        "        pdf_reader = PyPDF2.PdfReader(pdf_file)\n",
        "\n",
        "        # Extract text from each page\n",
        "        text = \"\"\n",
        "        for page in pdf_reader.pages:\n",
        "            text += page.extract_text()\n",
        "        return text\n",
        "    except Exception as e:\n",
        "        print(f\"Error fetching or processing PDF {url}: {e}\")\n",
        "        return \"\"\n",
        "\n",
        "# Function to extract all links from a webpage\n",
        "def extract_links_from_page(url):\n",
        "    try:\n",
        "        response = requests.get(url)\n",
        "        response.raise_for_status()\n",
        "        soup = BeautifulSoup(response.text, 'html.parser')\n",
        "\n",
        "        # Find all links on the page\n",
        "        links = set()\n",
        "        for a_tag in soup.find_all('a', href=True):\n",
        "            full_url = urljoin(url, a_tag['href'])\n",
        "            links.add(full_url)\n",
        "        return links\n",
        "    except Exception as e:\n",
        "        print(f\"Error fetching links from {url}: {e}\")\n",
        "        return set()\n",
        "\n",
        "# Function to process a URL and extract text based on its type\n",
        "def extract_text_from_url(url):\n",
        "    if url.lower().endswith('.pdf'):\n",
        "        return extract_text_from_pdf(url)\n",
        "    else:\n",
        "        return extract_text_from_page(url)\n",
        "\n",
        "# Main script\n",
        "base_url = \"https://www.gfanzero.com/\"\n",
        "\n",
        "print(\"Extracting text from the homepage...\")\n",
        "homepage_text = extract_text_from_page(base_url)\n",
        "print(homepage_text)\n",
        "\n",
        "print(\"\\nExtracting links from the homepage...\")\n",
        "links = extract_links_from_page(base_url)\n",
        "\n",
        "# Optional: limit the number of links to follow (to avoid excessive requests)\n",
        "links = list(links)[:10]  # Example: Follow only the first 10 links\n",
        "\n",
        "print(\"\\nExtracting text from linked pages...\")\n",
        "all_text = homepage_text  # Start with the homepage text\n",
        "\n",
        "for link in links:\n",
        "    print(f\"\\nProcessing {link}...\")\n",
        "    page_text = extract_text_from_url(link)\n",
        "    all_text += f\"\\n\\nText from {link}:\\n{page_text}\"\n",
        "\n",
        "# Save all extracted text to a file\n",
        "with open(\"extracted_text.txt\", \"w\", encoding=\"utf-8\") as file:\n",
        "    file.write(all_text)\n",
        "\n",
        "print(\"\\nAll text extracted and saved to 'extracted_text.txt'.\")\n"
      ],
      "metadata": {
        "id": "wvnEjXWSlnJZ",
        "colab": {
          "base_uri": "https://localhost:8080/"
        },
        "outputId": "73772386-132e-41c6-81ad-cd00da475796"
      },
      "execution_count": null,
      "outputs": [
        {
          "output_type": "stream",
          "name": "stdout",
          "text": [
            "Extracting text from the homepage...\n",
            "Glasgow Financial Alliance for Net Zero About GFANZ APAC Network Africa Network Latin America and Caribbean Network Overview Transition planning Mobilizing capital Public policy Publications Insights Workshops in a Box NZTP Examples Press Releases Media Coverage Videos Glasgow Financial Alliance for Net Zero Accelerating the transition to a net-zero global economy The Glasgow Financial Alliance for Net Zero (GFANZ) brings together financial institutions and other financial services sector participants who have individually decided to support the objectives of mobilizing capital and addressing the barriers companies face to scaling decarbonization. Seizing the economic opportunity created by the transition requires an increase in the flow of private finance across all sectors of the global economy, especially in emerging markets and developing economies. Learn more about us Led by financial institutions and climate experts GFANZ is led by a Principals Group that brings together CEOs and leaders from many of the world’s leading financial institutions, other market participants in the financial services sector, chairs of the GFANZ regional networks, and the GFANZ Leadership Team. An Advisory Panel of technical climate-related experts ensures that climate science is kept at the heart of everything GFANZ does. Michael R. Bloomberg, UN Special Envoy on Climate Ambition and Solutions, and Mark Carney, UN Special Envoy for Climate Action and Finance, serve as GFANZ Co-Chairs and Mary Schapiro serves as the Vice Chair and Head of the Secretariat. Learn more about our leadership Latest news COP28 Presidency, GFANZ and VCMI Commit to Working with Businesses, and Other Stakeholders to Grow High-Integrity Demand in Voluntary Carbon Markets read more Statement from GFANZ Co-Chairs and Vice Chair on the U.S. Treasury’s Net Zero Financing & Investment Principles read more GFANZ Launches Consultation on Transition Finance Strategies and Measuring the Impact on Emissions read more GFANZ Africa Network, African Development Bank Announce Climate Action Partnership read more GFANZ Announces Hong Kong Chapter to Support Asia-Pacific Net-Zero Transition read more Key outcomes from High-Level Roundtable on Voluntary Carbon Markets co-hosted by COP28, GFANZ, and IIF read more Statement from International Monetary Fund Managing Director, COP28 President-Designate, President of the World Bank Group, and UN Special Envoy for Climate Action and Finance read more Key outcomes from a High-Level Roundtable on Voluntary Carbon Markets at The Summit for a New Global Financing Pact read more Publications Your source for transition guidance GFANZ regularly publishes transition planning resources for financial institutions, including guidance on net-zero transition plans, sectoral pathways, real-economy transition plans, portfolio alignment measurement, and the managed phaseout of high-emitting assets. Visit our Publications section to view and download our reports. Explore our publications Publications Explore our current areas of focus GFANZ regularly publishes resources in the areas of financial institution net-zero transition plans, mobilizing capital for emerging markets and developing economies, and net-zero public policy. Visit our Publications section to review and download our reports. Explore our publications GFANZ 2024 Progress Report This GFANZ Progress Report outlines the progress made in 2024 and how that momentum can be sustained. This year, GFANZ continued to provide financial institutions with tools, frameworks, and voluntary guidance to support the net-zero transition, which bolsters economic growth and manages the financial risks of climate change. Our work will continue to evolve and reflect the needs of financial institutions and support opportunities to accelerate the transition to a sustainable and prosperous global economy. Download the report Scaling Transition Finance and Real-economy Decarbonization, Supplement to the 2022 Net-zero Transition Plans report (December 2023) This GFANZ Secretariat Technical Review Note further develops the Transition Finance strategies by providing a supplement to the 2022 GFANZ NZTP guidance and discusses potential decarbonization contribution methodologies as a complement to today’s metrics. Download the report GFANZ 2023 Progress Report This report details the progress GFANZ has made in 2023 under our program of work to support financial institutions in operationalizing their net-zero commitments, accelerating capital mobilization to EM&DEs, and advocating for credible policies and standards to enable net-zero transition across the globe. Download the report Scaling Transition Finance and Real-economy Decarbonization, Supplement to the 2022 Net-zero Transition Plans report (December 2023) This GFANZ Secretariat Technical Review Note further develops the Transition Finance strategies by providing a supplement to the 2022 GFANZ NZTP guidance and discusses potential decarbonization contribution methodologies as a complement to today’s metrics. Download the report Keep up with GFANZ Sign up to receive our newsletter and stay updated on the latest GFANZ news and events. Join the mailing list Keep up with GFANZ Sign up to receive our newsletter and stay updated on the latest GFANZ news and events. Join the mailing list © 2025 Glasgow Financial Alliance for Net Zero. \n",
            "\n",
            "Extracting links from the homepage...\n",
            "\n",
            "Extracting text from linked pages...\n",
            "\n",
            "Processing https://www.gfanzero.com/...\n",
            "\n",
            "Processing https://www.gfanzero.com/press/key-outcomes-from-high-level-roundtable-on-voluntary-carbon-markets-co-hosted-by-cop28-gfanz-and-iif/...\n",
            "\n",
            "Processing https://www.gfanzero.com/press/key-outcomes-from-a-high-level-roundtable-on-voluntary-carbon-markets-at-the-summit-for-a-new-global-financing-pact/...\n",
            "\n",
            "Processing https://assets.bbhub.io/company/sites/63/2024/11/GFANZ-Progress-Report-2024.pdf...\n",
            "\n",
            "Processing https://www.gfanzero.com/transition-planning-examples/...\n",
            "\n",
            "Processing https://www.gfanzero.com/about/...\n",
            "\n",
            "Processing https://www.gfanzero.com/workshops-in-a-box/...\n",
            "\n",
            "Processing https://www.gfanzero.com/asia-pacific-network/...\n",
            "\n",
            "Processing https://www.gfanzero.com/our-work/mobilizing-capital-for-emerging-markets-and-developing-economies/...\n",
            "\n",
            "Processing https://www.gfanzero.com/publications/...\n",
            "\n",
            "All text extracted and saved to 'extracted_text.txt'.\n"
          ]
        }
      ]
    },
    {
      "cell_type": "code",
      "source": [],
      "metadata": {
        "id": "-Sw3RhTFU1ce"
      },
      "execution_count": null,
      "outputs": []
    }
  ]
}